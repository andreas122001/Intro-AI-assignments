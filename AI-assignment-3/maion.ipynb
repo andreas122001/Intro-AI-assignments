{
 "cells": [
  {
   "cell_type": "code",
   "execution_count": 16,
   "metadata": {},
   "outputs": [],
   "source": [
    "from Assignment import CSP, create_sudoku_csp, create_map_coloring_csp, print_sudoku_solution\n",
    "csp = create_sudoku_csp(\"easy.txt\")\n",
    "var0 = csp.variables[0]\n",
    "var1 = csp.variables[2]\n"
   ]
  },
  {
   "cell_type": "code",
   "execution_count": 41,
   "metadata": {},
   "outputs": [
    {
     "data": {
      "text/plain": [
       "102"
      ]
     },
     "execution_count": 41,
     "metadata": {},
     "output_type": "execute_result"
    }
   ],
   "source": [
    "value = '4'\n",
    "var = '1-5'\n",
    "conflicts = 0\n",
    "for nb in csp.get_all_neighboring_arcs(var):\n",
    "    for arc in csp.constraints[var][nb[0]]:\n",
    "        if arc[0] == value:\n",
    "            conflicts += 1\n",
    "    #     print(csp.constraints[var0])\n",
    "        # print(csp.constraints[var][arc])\n",
    "        # if var[1] == value:\n",
    "        #     conflicts += 1\n",
    "conflicts"
   ]
  },
  {
   "cell_type": "code",
   "execution_count": 17,
   "metadata": {},
   "outputs": [
    {
     "data": {
      "text/plain": [
       "[('1', '4'),\n",
       " ('2', '4'),\n",
       " ('3', '4'),\n",
       " ('5', '4'),\n",
       " ('6', '4'),\n",
       " ('7', '4'),\n",
       " ('8', '4'),\n",
       " ('9', '4')]"
      ]
     },
     "execution_count": 17,
     "metadata": {},
     "output_type": "execute_result"
    }
   ],
   "source": [
    "csp.constraints[var0][var1]"
   ]
  },
  {
   "cell_type": "code",
   "execution_count": 27,
   "metadata": {},
   "outputs": [
    {
     "data": {
      "text/plain": [
       "False"
      ]
     },
     "execution_count": 27,
     "metadata": {},
     "output_type": "execute_result"
    }
   ],
   "source": [
    "d = [\n",
    "    (1,1),\n",
    "    (2,3),\n",
    "]\n",
    "\n",
    "2 in d[:][0]"
   ]
  },
  {
   "cell_type": "code",
   "execution_count": null,
   "metadata": {},
   "outputs": [],
   "source": [
    "value = 2\n",
    "for nb in list(csp.constraints[var0].values()):\n",
    "    consistent = False\n",
    "    for nb in nb:\n",
    "        if value == int(nb[0]):\n",
    "            consistent = True\n",
    "            break\n",
    "    if not consistent:\n",
    "        print(False)\n",
    "        break"
   ]
  },
  {
   "cell_type": "code",
   "execution_count": 31,
   "metadata": {},
   "outputs": [
    {
     "data": {
      "text/plain": [
       "True"
      ]
     },
     "execution_count": 31,
     "metadata": {},
     "output_type": "execute_result"
    }
   ],
   "source": [
    "l = tuple([1,2])\n",
    "t = tuple((1,2))\n",
    "l == t"
   ]
  },
  {
   "cell_type": "code",
   "execution_count": 47,
   "metadata": {},
   "outputs": [
    {
     "data": {
      "text/plain": [
       "[('1', '2'),\n",
       " ('1', '3'),\n",
       " ('1', '4'),\n",
       " ('1', '5'),\n",
       " ('1', '6'),\n",
       " ('1', '7'),\n",
       " ('1', '8'),\n",
       " ('1', '9'),\n",
       " ('2', '1'),\n",
       " ('2', '3'),\n",
       " ('2', '4'),\n",
       " ('2', '5'),\n",
       " ('2', '6'),\n",
       " ('2', '7'),\n",
       " ('2', '8'),\n",
       " ('2', '9'),\n",
       " ('3', '1'),\n",
       " ('3', '2'),\n",
       " ('3', '4'),\n",
       " ('3', '5'),\n",
       " ('3', '6'),\n",
       " ('3', '7'),\n",
       " ('3', '8'),\n",
       " ('3', '9'),\n",
       " ('4', '1'),\n",
       " ('4', '2'),\n",
       " ('4', '3'),\n",
       " ('4', '5'),\n",
       " ('4', '6'),\n",
       " ('4', '7'),\n",
       " ('4', '8'),\n",
       " ('4', '9'),\n",
       " ('5', '1'),\n",
       " ('5', '2'),\n",
       " ('5', '3'),\n",
       " ('5', '4'),\n",
       " ('5', '6'),\n",
       " ('5', '7'),\n",
       " ('5', '8'),\n",
       " ('5', '9'),\n",
       " ('6', '1'),\n",
       " ('6', '2'),\n",
       " ('6', '3'),\n",
       " ('6', '4'),\n",
       " ('6', '5'),\n",
       " ('6', '7'),\n",
       " ('6', '8'),\n",
       " ('6', '9'),\n",
       " ('7', '1'),\n",
       " ('7', '2'),\n",
       " ('7', '3'),\n",
       " ('7', '4'),\n",
       " ('7', '5'),\n",
       " ('7', '6'),\n",
       " ('7', '8'),\n",
       " ('7', '9'),\n",
       " ('8', '1'),\n",
       " ('8', '2'),\n",
       " ('8', '3'),\n",
       " ('8', '4'),\n",
       " ('8', '5'),\n",
       " ('8', '6'),\n",
       " ('8', '7'),\n",
       " ('8', '9'),\n",
       " ('9', '1'),\n",
       " ('9', '2'),\n",
       " ('9', '3'),\n",
       " ('9', '4'),\n",
       " ('9', '5'),\n",
       " ('9', '6'),\n",
       " ('9', '7'),\n",
       " ('9', '8')]"
      ]
     },
     "execution_count": 47,
     "metadata": {},
     "output_type": "execute_result"
    }
   ],
   "source": [
    "var1 = csp.get_all_neighboring_arcs('0-0')[0][0]\n",
    "nb = csp.get_all_neighboring_arcs('0-0')[0][1]\n",
    "csp.constraints[var1][nb]"
   ]
  },
  {
   "cell_type": "code",
   "execution_count": 17,
   "metadata": {},
   "outputs": [
    {
     "name": "stdout",
     "output_type": "stream",
     "text": [
      "True\n"
     ]
    }
   ],
   "source": [
    "if [len(x) == 1 for x in list(csp.domains.values())]:\n",
    "    print(True)"
   ]
  },
  {
   "cell_type": "code",
   "execution_count": 13,
   "metadata": {},
   "outputs": [
    {
     "data": {
      "text/plain": [
       "['1', '2', '3', '4', '5', '6', '7', '8', '9']"
      ]
     },
     "execution_count": 13,
     "metadata": {},
     "output_type": "execute_result"
    }
   ],
   "source": [
    "csp.domains[var0]"
   ]
  },
  {
   "cell_type": "code",
   "execution_count": 8,
   "metadata": {},
   "outputs": [
    {
     "data": {
      "text/plain": [
       "True"
      ]
     },
     "execution_count": 8,
     "metadata": {},
     "output_type": "execute_result"
    }
   ],
   "source": [
    "csp.inference(csp.domains, csp.get_all_arcs())"
   ]
  },
  {
   "cell_type": "markdown",
   "metadata": {},
   "source": []
  },
  {
   "cell_type": "code",
   "execution_count": 30,
   "metadata": {},
   "outputs": [
    {
     "data": {
      "text/plain": [
       "'1'"
      ]
     },
     "execution_count": 30,
     "metadata": {},
     "output_type": "execute_result"
    }
   ],
   "source": [
    "list(csp.constraints[var0].values())[2][2][0]"
   ]
  },
  {
   "cell_type": "code",
   "execution_count": 8,
   "metadata": {},
   "outputs": [
    {
     "data": {
      "text/plain": [
       "'2'"
      ]
     },
     "execution_count": 8,
     "metadata": {},
     "output_type": "execute_result"
    }
   ],
   "source": [
    "csp.domains[csp.variables[1]][1]"
   ]
  },
  {
   "cell_type": "code",
   "execution_count": 18,
   "metadata": {},
   "outputs": [
    {
     "data": {
      "text/plain": [
       "2"
      ]
     },
     "execution_count": 18,
     "metadata": {},
     "output_type": "execute_result"
    }
   ],
   "source": [
    "l = [1,2,3,4,5]\n",
    "t = (1)\n",
    "l[t]\n"
   ]
  }
 ],
 "metadata": {
  "kernelspec": {
   "display_name": "Python 3",
   "language": "python",
   "name": "python3"
  },
  "language_info": {
   "codemirror_mode": {
    "name": "ipython",
    "version": 3
   },
   "file_extension": ".py",
   "mimetype": "text/x-python",
   "name": "python",
   "nbconvert_exporter": "python",
   "pygments_lexer": "ipython3",
   "version": "3.10.11"
  },
  "orig_nbformat": 4
 },
 "nbformat": 4,
 "nbformat_minor": 2
}
